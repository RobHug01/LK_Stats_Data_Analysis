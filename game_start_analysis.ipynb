{
 "cells": [
  {
   "cell_type": "code",
   "execution_count": 57,
   "metadata": {},
   "outputs": [],
   "source": [
    "import requests\n",
    "import pandas as pd\n",
    "import numpy as np\n",
    "import io\n",
    "from nba_api.stats.static import teams\n",
    "from nba_api.stats.endpoints import leaguegamefinder\n",
    "import matplotlib.pyplot as plt"
   ]
  },
  {
   "cell_type": "code",
   "execution_count": 58,
   "metadata": {},
   "outputs": [],
   "source": [
    "gamefinder = leaguegamefinder.LeagueGameFinder(season_nullable='2021-22',\n",
    "league_id_nullable='00',\n",
    "season_type_nullable='Regular Season')\n",
    "games = gamefinder.get_data_frames()[0]\n",
    "\n",
    "game_ids = games['GAME_ID'].unique().tolist()\n",
    "\n",
    "def get_data(game_id):\n",
    "    play_by_play_url = \"https://cdn.nba.com/static/json/liveData/playbyplay/playbyplay_\"+game_id+\".json\"\n",
    "    response = requests.get(url=play_by_play_url).json()\n",
    "    play_by_play = response['game']['actions']\n",
    "    df = pd.DataFrame(play_by_play)\n",
    "    df['gameid'] = game_id\n",
    "    return df"
   ]
  },
  {
   "cell_type": "code",
   "execution_count": 59,
   "metadata": {},
   "outputs": [],
   "source": [
    "game_data_agg = []\n",
    "for game_id in game_ids:\n",
    "    game_data_agg.append(get_data(game_id))"
   ]
  },
  {
   "cell_type": "code",
   "execution_count": 60,
   "metadata": {},
   "outputs": [
    {
     "name": "stdout",
     "output_type": "stream",
     "text": [
      "0.35833333333333334\n",
      "0.5435185185185185\n"
     ]
    }
   ],
   "source": [
    "jump_counter = 0\n",
    "first_counter = 0\n",
    "\n",
    "for game_data in game_data_agg:\n",
    "    jump_won_team = game_data.loc[1, \"teamTricode\"]\n",
    "    found = False\n",
    "    i=2\n",
    "    home_away = {}\n",
    "    while (not found):\n",
    "        if game_data.loc[i, \"shotResult\"] == \"Made\":\n",
    "            if game_data.loc[i, \"scoreHome\"] != 0:\n",
    "                home_away['home'] = game_data.at[i, \"teamTricode\"]\n",
    "                home_away['away'] = None\n",
    "            else:\n",
    "                home_away['away'] = game_data.at[i, \"teamTricode\"]\n",
    "                home_away['home'] = None\n",
    "            first_scored = game_data.loc[i, \"teamTricode\"]\n",
    "            found = True\n",
    "        i = i+1\n",
    "    home_won = (int(game_data[\"scoreHome\"].iloc[-1]) > int(game_data[\"scoreAway\"].iloc[-1]))\n",
    "    if (home_won and home_away['home'] == jump_won_team) or (not home_won and home_away['away'] == jump_won_team):\n",
    "        jump_counter = jump_counter + 1\n",
    "    if (home_won and home_away['home'] == first_scored) or (not home_won and home_away['away'] == first_scored):\n",
    "        first_counter = first_counter + 1\n",
    "\n",
    "jump_win_pct = jump_counter/len(game_data_agg)\n",
    "print(jump_win_pct)\n",
    "first_win_pct = first_counter/len(game_data_agg)\n",
    "print(first_win_pct)"
   ]
  },
  {
   "cell_type": "code",
   "execution_count": 61,
   "metadata": {},
   "outputs": [
    {
     "name": "stdout",
     "output_type": "stream",
     "text": [
      "689\n",
      "0.6708860759493671\n"
     ]
    }
   ],
   "source": [
    "counter = 0\n",
    "total = 0\n",
    "games = []\n",
    "\n",
    "for game_data in game_data_agg:\n",
    "    scores = game_data.loc[(game_data['actionType'] == 'period') & (game_data['subType'] == 'start'), ['scoreHome', 'scoreAway']]\n",
    "    home_score = int(scores['scoreHome'].iloc[1])\n",
    "    away_score = int(scores['scoreAway'].iloc[1])\n",
    "    if home_score > (away_score):\n",
    "        home_lead = True\n",
    "    elif away_score > (home_score):\n",
    "        home_lead = False\n",
    "\n",
    "    else:\n",
    "        continue\n",
    "    \n",
    "    home_won = (int(game_data[\"scoreHome\"].iloc[-1]) > int(game_data[\"scoreAway\"].iloc[-1]))\n",
    "    if (home_lead and home_won) or ((not home_lead) and (not home_won)):\n",
    "        counter = counter + 1\n",
    "    total = total + 1\n",
    "\n",
    "lead_win_pct = counter/total\n",
    "print(counter)\n",
    "print(lead_win_pct)"
   ]
  },
  {
   "cell_type": "code",
   "execution_count": null,
   "metadata": {},
   "outputs": [],
   "source": []
  }
 ],
 "metadata": {
  "interpreter": {
   "hash": "e2d3ca570dc70d95a002fc2cec5654fbe28ade852a1bf71d6af91e0dd85c91b7"
  },
  "kernelspec": {
   "display_name": "Python 3.9.0 64-bit",
   "language": "python",
   "name": "python3"
  },
  "language_info": {
   "codemirror_mode": {
    "name": "ipython",
    "version": 3
   },
   "file_extension": ".py",
   "mimetype": "text/x-python",
   "name": "python",
   "nbconvert_exporter": "python",
   "pygments_lexer": "ipython3",
   "version": "3.9.0"
  },
  "orig_nbformat": 4
 },
 "nbformat": 4,
 "nbformat_minor": 2
}
